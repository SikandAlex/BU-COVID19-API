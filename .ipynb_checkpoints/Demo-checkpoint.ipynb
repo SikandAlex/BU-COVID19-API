{
 "cells": [
  {
   "cell_type": "code",
   "execution_count": 1,
   "metadata": {},
   "outputs": [],
   "source": [
    "from selenium import webdriver\n",
    "from selenium.webdriver.common.by import By\n",
    "from selenium.webdriver.support.ui import WebDriverWait\n",
    "from selenium.webdriver.support import expected_conditions as EC\n",
    "from selenium.common.exceptions import TimeoutException"
   ]
  },
  {
   "cell_type": "code",
   "execution_count": 2,
   "metadata": {},
   "outputs": [
    {
     "name": "stdout",
     "output_type": "stream",
     "text": [
      "DATES X-DATA\n",
      "['8/12/20', '8/13/20', '8/14/20', '8/15/20', '8/16/20', '8/17/20', '8/18/20']\n",
      "POSITIVE Y-DATA\n",
      "['0', '1', '0', '2', '1', '4', '4']\n",
      "NEGATIVE Y-DATA\n",
      "['417', '488', '281', '1000', '285', '1069', '950']\n",
      "INCONCLUSIVE Y-DATA\n",
      "['8', '7', '4', '17', '0', '13', '11']\n"
     ]
    }
   ],
   "source": [
    "# Get a chrome webdriver (on Mac OSX 'brew cask install chromedriver')\n",
    "driver = webdriver.Chrome(executable_path='chromedriver')\n",
    "# Get the webpage for the direct PowerBI visualization from Boston University \n",
    "driver.get('https://app.powerbi.com/view?r=eyJrIjoiMzI4OTBlMzgtODg5MC00OGEwLThlMDItNGJiNDdjMDU5ODhkIiwidCI6ImQ1N2QzMmNjLWMxMjEtNDg4Zi1iMDdiLWRmZTcwNTY4MGM3MSIsImMiOjN9')\n",
    "driver.implicitly_wait(10)\n",
    "'''\n",
    "\n",
    "\n",
    "# CUMULATIVE DATA \n",
    "cum_title_xpath = '//*[@id=\"pvExplorationHost\"]/div/div/exploration/div/explore-canvas-modern/div/div[2]/div/div[2]/div[2]/visual-container-repeat/visual-container-modern[14]/transform/div/div[3]/div/visual-modern/div/svg/g[1]/text/tspan'\n",
    "cum_tests_conducted_xpath = '//*[@id=\"pvExplorationHost\"]/div/div/exploration/div/explore-canvas-modern/div/div[2]/div/div[2]/div[2]/visual-container-repeat/visual-container-modern[20]/transform/div/div[3]/div/visual-modern/div/div/div/div[1]/div/div/div/div/div[1]/div[1]'\n",
    "cum_tests_neg_xpath = '//*[@id=\"pvExplorationHost\"]/div/div/exploration/div/explore-canvas-modern/div/div[2]/div/div[2]/div[2]/visual-container-repeat/visual-container-modern[20]/transform/div/div[3]/div/visual-modern/div/div/div/div[1]/div/div/div/div/div[2]/div[1]'\n",
    "cum_tests_inc_xpath = '//*[@id=\"pvExplorationHost\"]/div/div/exploration/div/explore-canvas-modern/div/div[2]/div/div[2]/div[2]/visual-container-repeat/visual-container-modern[20]/transform/div/div[3]/div/visual-modern/div/div/div/div[1]/div/div/div/div/div[4]/div[1]'\n",
    "cum_tests_pos_xpath = '//*[@id=\"pvExplorationHost\"]/div/div/exploration/div/explore-canvas-modern/div/div[2]/div/div[2]/div[2]/visual-container-repeat/visual-container-modern[20]/transform/div/div[3]/div/visual-modern/div/div/div/div[1]/div/div/div/div/div[3]/div[1]'\n",
    "cum_avg_sample_process_time_xpath = '//*[@id=\"pvExplorationHost\"]/div/div/exploration/div/explore-canvas-modern/div/div[2]/div/div[2]/div[2]/visual-container-repeat/visual-container-modern[18]/transform/div/div[3]/div/visual-modern/div/div/div/div[1]/div/div/div/div/div/div[1]'\n",
    "\n",
    "cum_tests_conducted = driver.find_element(By.XPATH, cum_tests_conducted_xpath).text\n",
    "cum_tests_neg = driver.find_element(By.XPATH, cum_tests_neg_xpath).text\n",
    "cum_tests_pos = driver.find_element(By.XPATH, cum_tests_pos_xpath).text\n",
    "cum_tests_inc = driver.find_element(By.XPATH, cum_tests_inc_xpath).text\n",
    "cum_avg_sample_process_time = driver.find_element(By.XPATH, cum_avg_sample_process_time_xpath).text\n",
    "\n",
    "\n",
    "# DAILY DATA XPATHS\n",
    "daily_tests_conducted_xpath = '//*[@id=\"pvExplorationHost\"]/div/div/exploration/div/explore-canvas-modern/div/div[2]/div/div[2]/div[2]/visual-container-repeat/visual-container-modern[8]/transform/div/div[3]/div/visual-modern/div/div/div/div[1]/div/div/div/div/div[1]/div[1]'\n",
    "daily_tests_pos_xpath = '//*[@id=\"pvExplorationHost\"]/div/div/exploration/div/explore-canvas-modern/div/div[2]/div/div[2]/div[2]/visual-container-repeat/visual-container-modern[8]/transform/div/div[3]/div/visual-modern/div/div/div/div[1]/div/div/div/div/div[3]/div[1]'\n",
    "daily_tests_neg_xpath = '//*[@id=\"pvExplorationHost\"]/div/div/exploration/div/explore-canvas-modern/div/div[2]/div/div[2]/div[2]/visual-container-repeat/visual-container-modern[8]/transform/div/div[3]/div/visual-modern/div/div/div/div[1]/div/div/div/div/div[2]/div[1]'\n",
    "daily_tests_inc_xpath = '//*[@id=\"pvExplorationHost\"]/div/div/exploration/div/explore-canvas-modern/div/div[2]/div/div[2]/div[2]/visual-container-repeat/visual-container-modern[8]/transform/div/div[3]/div/visual-modern/div/div/div/div[1]/div/div/div/div/div[4]/div[1]'\n",
    "avg_sample_process_time_xpath = '//*[@id=\"pvExplorationHost\"]/div/div/exploration/div/explore-canvas-modern/div/div[2]/div/div[2]/div[2]/visual-container-repeat/visual-container-modern[17]/transform/div/div[3]/div/visual-modern/div/div/div/div[1]/div/div/div/div/div/div[1]'\n",
    "\n",
    "daily_tests_conducted = driver.find_element(By.XPATH, daily_tests_conducted_xpath).text\n",
    "daily_tests_neg = driver.find_element(By.XPATH, daily_tests_neg_xpath).text\n",
    "daily_tests_pos = driver.find_element(By.XPATH, daily_tests_pos_xpath).text\n",
    "daily_tests_inc = driver.find_element(By.XPATH, daily_tests_inc_xpath).text\n",
    "avg_sample_process_time = driver.find_element(By.XPATH, avg_sample_process_time_xpath).text\n",
    "'''\n",
    "graph_parent_xpath = '//*[@id=\"pvExplorationHost\"]/div/div/exploration/div/explore-canvas-modern/div/div[2]/div/div[2]/div[2]/visual-container-repeat/visual-container-modern[1]/transform/div/div[3]/div/visual-modern/div/svg/svg/g[1]/g[2]/svg/g[2]'\n",
    "graph_data = driver.find_elements(By.CLASS_NAME, 'column')\n",
    "\n",
    "weekly_positives_array = []\n",
    "weekly_negatives_array = []\n",
    "weekly_inconclusive_array = []\n",
    "weekly_dates = []\n",
    "\n",
    "for t in graph_data[:7]:\n",
    "    data = t.get_attribute('aria-label')\n",
    "    splitted = data.split(\" \")\n",
    "    date = splitted[2]\n",
    "    date = date.replace(\".\", '')\n",
    "    weekly_dates.append(date)\n",
    "    start = data.find(\".\") + 2\n",
    "    end = data.find(\".\", start)\n",
    "    parsed = data[start:end]\n",
    "    parsed = parsed.replace(\"Positive \", '')\n",
    "    parsed = parsed.replace(\",\", '')\n",
    "    weekly_positives_array.append(parsed)\n",
    "    \n",
    "for t in graph_data[7:14]:\n",
    "    data = t.get_attribute('aria-label')\n",
    "    start = data.find(\".\") + 2\n",
    "    end = data.find(\".\", start)\n",
    "    parsed = data[start:end]\n",
    "    parsed = parsed.replace(\"Negative \", '')\n",
    "    parsed = parsed.replace(\",\", '')\n",
    "    weekly_negatives_array.append(parsed)\n",
    "    \n",
    "for t in graph_data[14:21]:\n",
    "    data = t.get_attribute('aria-label')\n",
    "    start = data.find(\".\") + 2\n",
    "    end = data.find(\".\", start)\n",
    "    parsed = data[start:end]\n",
    "    parsed = parsed.replace(\"Inconclusive \", '')\n",
    "    parsed = parsed.replace(\",\", '')\n",
    "    weekly_inconclusive_array.append(parsed)\n",
    "\n",
    "print(\"DATES X-DATA\")\n",
    "print(weekly_dates)\n",
    "print(\"POSITIVE Y-DATA\")\n",
    "print(weekly_positives_array)\n",
    "print(\"NEGATIVE Y-DATA\")\n",
    "print(weekly_negatives_array)\n",
    "print(\"INCONCLUSIVE Y-DATA\")\n",
    "print(weekly_inconclusive_array)\n",
    "\n"
   ]
  },
  {
   "cell_type": "code",
   "execution_count": null,
   "metadata": {},
   "outputs": [],
   "source": [
    "%%javascript\n",
    "require.config({\n",
    "  paths: {\n",
    "      d3: '//cdnjs.cloudflare.com/ajax/libs/d3/3.4.8/d3.min'\n",
    "  }\n",
    "});"
   ]
  },
  {
   "cell_type": "code",
   "execution_count": 4,
   "metadata": {},
   "outputs": [
    {
     "data": {
      "text/html": [
       "<link media=\"all\" href=\"https://cdnjs.cloudflare.com/ajax/libs/nvd3/1.7.0/nv.d3.min.css\" type=\"text/css\"\n",
       "                        rel=\"stylesheet\"/>"
      ],
      "text/plain": [
       "<IPython.core.display.HTML object>"
      ]
     },
     "metadata": {},
     "output_type": "display_data"
    },
    {
     "data": {
      "application/javascript": [
       "$.getScript(\"https://cdnjs.cloudflare.com/ajax/libs/nvd3/1.7.0/nv.d3.min.js\")"
      ],
      "text/plain": [
       "<IPython.core.display.Javascript object>"
      ]
     },
     "metadata": {},
     "output_type": "display_data"
    },
    {
     "data": {
      "application/javascript": [
       "$.getScript(\"https://cdnjs.cloudflare.com/ajax/libs/d3/3.5.5/d3.min.js\", function() {\n",
       "                              $.getScript(\"https://cdnjs.cloudflare.com/ajax/libs/nvd3/1.7.0/nv.d3.min.js\", function() {})});"
      ],
      "text/plain": [
       "<IPython.core.display.Javascript object>"
      ]
     },
     "metadata": {},
     "output_type": "display_data"
    },
    {
     "data": {
      "text/html": [
       "<script src=\"https://cdnjs.cloudflare.com/ajax/libs/d3/3.5.5/d3.min.js\"></script>"
      ],
      "text/plain": [
       "<IPython.core.display.HTML object>"
      ]
     },
     "metadata": {},
     "output_type": "display_data"
    },
    {
     "data": {
      "text/html": [
       "<script src=\"https://cdnjs.cloudflare.com/ajax/libs/nvd3/1.7.0/nv.d3.min.js\"></script>"
      ],
      "text/plain": [
       "<IPython.core.display.HTML object>"
      ]
     },
     "metadata": {},
     "output_type": "display_data"
    },
    {
     "data": {
      "text/html": [
       "<!DOCTYPE html>\n",
       "<html lang=\"en\">\n",
       "    <head>\n",
       "        <meta charset=\"utf-8\" />\n",
       "        <link href=\"https://cdnjs.cloudflare.com/ajax/libs/nvd3/1.7.0/nv.d3.min.css\" rel=\"stylesheet\" />\n",
       "        <script src=\"https://cdnjs.cloudflare.com/ajax/libs/d3/3.5.5/d3.min.js\"></script>\n",
       "        <script src=\"https://cdnjs.cloudflare.com/ajax/libs/nvd3/1.7.0/nv.d3.min.js\"></script>\n",
       "    </head>\n",
       "    <body>\n",
       "        \n",
       "    <div id=\"multibarchart\"><svg style=\"width:500px;height:400px;\"></svg></div>\n",
       "\n",
       "\n",
       "    <script>\n",
       "\n",
       "\n",
       "\n",
       "        data_multibarchart=[{\"values\": [{\"x\": \"8/12/20\", \"y\": \"417\"}, {\"x\": \"8/13/20\", \"y\": \"488\"}, {\"x\": \"8/14/20\", \"y\": \"281\"}, {\"x\": \"8/15/20\", \"y\": \"1000\"}, {\"x\": \"8/16/20\", \"y\": \"285\"}, {\"x\": \"8/17/20\", \"y\": \"1069\"}, {\"x\": \"8/18/20\", \"y\": \"950\"}], \"key\": \"Serie 1\", \"yAxis\": \"1\"}, {\"values\": [{\"x\": \"8/12/20\", \"y\": \"0\"}, {\"x\": \"8/13/20\", \"y\": \"1\"}, {\"x\": \"8/14/20\", \"y\": \"0\"}, {\"x\": \"8/15/20\", \"y\": \"2\"}, {\"x\": \"8/16/20\", \"y\": \"1\"}, {\"x\": \"8/17/20\", \"y\": \"4\"}, {\"x\": \"8/18/20\", \"y\": \"4\"}], \"key\": \"Serie 2\", \"yAxis\": \"1\"}, {\"values\": [{\"x\": \"8/12/20\", \"y\": \"8\"}, {\"x\": \"8/13/20\", \"y\": \"7\"}, {\"x\": \"8/14/20\", \"y\": \"4\"}, {\"x\": \"8/15/20\", \"y\": \"17\"}, {\"x\": \"8/16/20\", \"y\": \"0\"}, {\"x\": \"8/17/20\", \"y\": \"13\"}, {\"x\": \"8/18/20\", \"y\": \"11\"}], \"key\": \"Serie 1\", \"yAxis\": \"1\"}];\n",
       "\n",
       "    nv.addGraph(function() {\n",
       "        var chart = nv.models.multiBarChart();\n",
       "\n",
       "        chart.margin({top: 30, right: 60, bottom: 20, left: 60});\n",
       "\n",
       "        var datum = data_multibarchart;\n",
       "\n",
       "\n",
       "\n",
       "\n",
       "\n",
       "            chart.yAxis\n",
       "                .tickFormat(d3.format(',.2f'));\n",
       "\n",
       "\n",
       "      chart.showLegend(true);\n",
       "\n",
       "\n",
       "\n",
       "        \n",
       "\n",
       "\n",
       "        d3.select('#multibarchart svg')\n",
       "            .datum(datum)\n",
       "            .transition().duration(500)\n",
       "            .attr('width', 500)\n",
       "            .attr('height', 400)\n",
       "            .call(chart);\n",
       "\n",
       "\n",
       "    });\n",
       "\n",
       "\n",
       "\n",
       "\n",
       "    </script>\n",
       "\n",
       "    </body>\n",
       "</html>"
      ],
      "text/plain": [
       "<nvd3.multiBarChart.multiBarChart at 0x7f8a67811910>"
      ]
     },
     "execution_count": 4,
     "metadata": {},
     "output_type": "execute_result"
    }
   ],
   "source": [
    "from IPython import display as d\n",
    "import nvd3\n",
    "nvd3.ipynb.initialize_javascript(use_remote=True)\n",
    "\n",
    "\n",
    "\n",
    "chart =  nvd3.multiBarChart(width=500, height=400, x_axis_format=None)\n",
    "xdata = weekly_dates\n",
    "ydata_pos = weekly_positives_array\n",
    "ydata_neg = weekly_negatives_array\n",
    "ydata_inc = weekly_inconclusive_array\n",
    "\n",
    "chart.add_serie(name=\"Serie 1\", y=ydata_neg, x=xdata)\n",
    "chart.add_serie(name=\"Serie 2\", y=ydata_pos, x=xdata)\n",
    "chart.add_serie(name=\"Serie 1\", y=ydata_inc, x=xdata)\n",
    "chart"
   ]
  },
  {
   "cell_type": "code",
   "execution_count": null,
   "metadata": {},
   "outputs": [],
   "source": [
    "# Pretty format test rates\n",
    "cum_pos_test_rate = round(float(cum_tests_pos.replace(',', ''))/float(cum_tests_conducted.replace(',', '')) * 100, 2)\n",
    "cum_neg_test_rate = round(float(cum_tests_neg.replace(',', ''))/float(cum_tests_conducted.replace(',', '')) * 100, 2)\n",
    "cum_inc_test_rate = round(float(cum_tests_inc.replace(',', ''))/float(cum_tests_conducted.replace(',', '')) * 100, 2)\n",
    "\n",
    "daily_pos_test_rate = round(float(daily_tests_pos.replace(',', ''))/float(daily_tests_conducted.replace(',', '')) * 100, 2)\n",
    "daily_neg_test_rate = round(float(daily_tests_neg.replace(',', ''))/float(daily_tests_conducted.replace(',', '')) * 100, 2)\n",
    "daily_inc_test_rate = round(float(daily_tests_inc.replace(',', ''))/float(daily_tests_conducted.replace(',', '')) * 100, 2)"
   ]
  },
  {
   "cell_type": "code",
   "execution_count": null,
   "metadata": {},
   "outputs": [],
   "source": [
    "print(\"\\n\")\n",
    "# hardcoded needs to change\n",
    "print(\"August 17, 2020\")\n",
    "print(\"----------\")\n",
    "print(\"Total Tests:\\t\\t\", daily_tests_conducted)\n",
    "print(\"Negative Tests:\\t\\t\", daily_tests_neg, \"\\t(\" + str(daily_neg_test_rate)+\"%\" + \")\")\n",
    "print(\"Positive Tests:\\t\\t\", daily_tests_pos, \"\\t(\" + str(daily_pos_test_rate)+\"%\" + \")\")\n",
    "print(\"Inconclusive Tests:\\t\", daily_tests_inc, \"\\t(\" + str(daily_inc_test_rate)+\"%\" + \")\")\n",
    "print(\"\\nAverage Processing Time:\", avg_sample_process_time, \"hours\")\n",
    "\n",
    "print(\"\\n\")\n",
    "# hardcoded needs to change\n",
    "print(\"Cumulative since July 27, 2020\")\n",
    "print(\"----------\")\n",
    "print(\"Total Tests:\\t\\t\", cum_tests_conducted)\n",
    "print(\"Negative Tests:\\t\\t\", cum_tests_neg, \"\\t(\" + str(cum_neg_test_rate)+\"%\" + \")\")\n",
    "print(\"Positive Tests:\\t\\t\", cum_tests_pos, \"\\t(\" + str(cum_pos_test_rate)+\"%\" + \")\")\n",
    "print(\"Inconclusive Tests:\\t\", cum_tests_inc, \"\\t(\" + str(cum_inc_test_rate)+\"%\" + \")\")\n",
    "print(\"\\nAverage Processing Time:\", cum_avg_sample_process_time, \"hours\")\n"
   ]
  },
  {
   "cell_type": "code",
   "execution_count": null,
   "metadata": {},
   "outputs": [],
   "source": []
  },
  {
   "cell_type": "code",
   "execution_count": null,
   "metadata": {},
   "outputs": [],
   "source": []
  }
 ],
 "metadata": {
  "kernelspec": {
   "display_name": "Python 3",
   "language": "python",
   "name": "python3"
  },
  "language_info": {
   "codemirror_mode": {
    "name": "ipython",
    "version": 3
   },
   "file_extension": ".py",
   "mimetype": "text/x-python",
   "name": "python",
   "nbconvert_exporter": "python",
   "pygments_lexer": "ipython3",
   "version": "3.7.7"
  }
 },
 "nbformat": 4,
 "nbformat_minor": 4
}
