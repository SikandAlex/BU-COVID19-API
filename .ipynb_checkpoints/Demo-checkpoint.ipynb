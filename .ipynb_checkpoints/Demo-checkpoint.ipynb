{
 "cells": [
  {
   "cell_type": "code",
   "execution_count": 3,
   "metadata": {},
   "outputs": [],
   "source": [
    "from selenium import webdriver\n",
    "from selenium.webdriver.common.by import By\n",
    "from selenium.webdriver.support.ui import WebDriverWait\n",
    "from selenium.webdriver.support import expected_conditions as EC\n",
    "from selenium.common.exceptions import TimeoutException"
   ]
  },
  {
   "cell_type": "code",
   "execution_count": 4,
   "metadata": {},
   "outputs": [
    {
     "name": "stdout",
     "output_type": "stream",
     "text": [
      "DATES X-DATA\n",
      "['8/15/20', '8/16/20', '8/17/20', '8/18/20', '8/19/20', '8/20/20', '8/21/20']\n",
      "POSITIVE Y-DATA\n",
      "[2, 1, 4, 4, 0, 0, 3]\n",
      "NEGATIVE Y-DATA\n",
      "[1000, 285, 1069, 950, 1443, 1410, 1443]\n",
      "INCONCLUSIVE Y-DATA\n",
      "[17, 0, 13, 11, 7, 4, 10]\n",
      "['8/15/20', '8/16/20', '8/17/20', '8/18/20', '8/19/20', '8/20/20', '8/21/20']\n"
     ]
    }
   ],
   "source": [
    "# Get a chrome webdriver (on Mac OSX 'brew cask install chromedriver')\n",
    "driver = webdriver.Chrome(executable_path='chromedriver')\n",
    "# Get the webpage for the direct PowerBI visualization from Boston University \n",
    "driver.get('https://app.powerbi.com/view?r=eyJrIjoiMzI4OTBlMzgtODg5MC00OGEwLThlMDItNGJiNDdjMDU5ODhkIiwidCI6ImQ1N2QzMmNjLWMxMjEtNDg4Zi1iMDdiLWRmZTcwNTY4MGM3MSIsImMiOjN9')\n",
    "driver.implicitly_wait(10)\n",
    "\n",
    "\n",
    "# CUMULATIVE DATA \n",
    "cum_title_xpath = '//*[@id=\"pvExplorationHost\"]/div/div/exploration/div/explore-canvas-modern/div/div[2]/div/div[2]/div[2]/visual-container-repeat/visual-container-modern[14]/transform/div/div[3]/div/visual-modern/div/svg/g[1]/text/tspan'\n",
    "cum_tests_conducted_xpath = '//*[@id=\"pvExplorationHost\"]/div/div/exploration/div/explore-canvas-modern/div/div[2]/div/div[2]/div[2]/visual-container-repeat/visual-container-modern[20]/transform/div/div[3]/div/visual-modern/div/div/div/div[1]/div/div/div/div/div[1]/div[1]'\n",
    "cum_tests_neg_xpath = '//*[@id=\"pvExplorationHost\"]/div/div/exploration/div/explore-canvas-modern/div/div[2]/div/div[2]/div[2]/visual-container-repeat/visual-container-modern[20]/transform/div/div[3]/div/visual-modern/div/div/div/div[1]/div/div/div/div/div[2]/div[1]'\n",
    "cum_tests_inv_xpath = '//*[@id=\"pvExplorationHost\"]/div/div/exploration/div/explore-canvas-modern/div/div[2]/div/div[2]/div[2]/visual-container-repeat/visual-container-modern[20]/transform/div/div[3]/div/visual-modern/div/div/div/div[1]/div/div/div/div/div[4]/div[1]'\n",
    "cum_tests_pos_xpath = '//*[@id=\"pvExplorationHost\"]/div/div/exploration/div/explore-canvas-modern/div/div[2]/div/div[2]/div[2]/visual-container-repeat/visual-container-modern[20]/transform/div/div[3]/div/visual-modern/div/div/div/div[1]/div/div/div/div/div[3]/div[1]'\n",
    "cum_avg_sample_process_time_xpath = '//*[@id=\"pvExplorationHost\"]/div/div/exploration/div/explore-canvas-modern/div/div[2]/div/div[2]/div[2]/visual-container-repeat/visual-container-modern[18]/transform/div/div[3]/div/visual-modern/div/div/div/div[1]/div/div/div/div/div/div[1]'\n",
    "\n",
    "cum_tests_conducted = driver.find_element(By.XPATH, cum_tests_conducted_xpath).text\n",
    "cum_tests_neg = driver.find_element(By.XPATH, cum_tests_neg_xpath).text\n",
    "cum_tests_pos = driver.find_element(By.XPATH, cum_tests_pos_xpath).text\n",
    "cum_tests_in = driver.find_element(By.XPATH, cum_tests_inv_xpath).text\n",
    "cum_avg_sample_process_time = driver.find_element(By.XPATH, cum_avg_sample_process_time_xpath).text\n",
    "\n",
    "\n",
    "# DAILY DATA XPATHS\n",
    "daily_tests_conducted_xpath = '//*[@id=\"pvExplorationHost\"]/div/div/exploration/div/explore-canvas-modern/div/div[2]/div/div[2]/div[2]/visual-container-repeat/visual-container-modern[8]/transform/div/div[3]/div/visual-modern/div/div/div/div[1]/div/div/div/div/div[1]/div[1]'\n",
    "daily_tests_pos_xpath = '//*[@id=\"pvExplorationHost\"]/div/div/exploration/div/explore-canvas-modern/div/div[2]/div/div[2]/div[2]/visual-container-repeat/visual-container-modern[8]/transform/div/div[3]/div/visual-modern/div/div/div/div[1]/div/div/div/div/div[3]/div[1]'\n",
    "daily_tests_neg_xpath = '//*[@id=\"pvExplorationHost\"]/div/div/exploration/div/explore-canvas-modern/div/div[2]/div/div[2]/div[2]/visual-container-repeat/visual-container-modern[8]/transform/div/div[3]/div/visual-modern/div/div/div/div[1]/div/div/div/div/div[2]/div[1]'\n",
    "daily_tests_inc_xpath = '//*[@id=\"pvExplorationHost\"]/div/div/exploration/div/explore-canvas-modern/div/div[2]/div/div[2]/div[2]/visual-container-repeat/visual-container-modern[8]/transform/div/div[3]/div/visual-modern/div/div/div/div[1]/div/div/div/div/div[4]/div[1]'\n",
    "avg_sample_process_time_xpath = '//*[@id=\"pvExplorationHost\"]/div/div/exploration/div/explore-canvas-modern/div/div[2]/div/div[2]/div[2]/visual-container-repeat/visual-container-modern[17]/transform/div/div[3]/div/visual-modern/div/div/div/div[1]/div/div/div/div/div/div[1]'\n",
    "\n",
    "daily_tests_conducted = driver.find_element(By.XPATH, daily_tests_conducted_xpath).text\n",
    "daily_tests_neg = driver.find_element(By.XPATH, daily_tests_neg_xpath).text\n",
    "daily_tests_pos = driver.find_element(By.XPATH, daily_tests_pos_xpath).text\n",
    "daily_tests_inc = driver.find_element(By.XPATH, daily_tests_inc_xpath).text\n",
    "avg_sample_process_time = driver.find_element(By.XPATH, avg_sample_process_time_xpath).text\n",
    "\n",
    "graph_parent_xpath = '//*[@id=\"pvExplorationHost\"]/div/div/exploration/div/explore-canvas-modern/div/div[2]/div/div[2]/div[2]/visual-container-repeat/visual-container-modern[1]/transform/div/div[3]/div/visual-modern/div/svg/svg/g[1]/g[2]/svg/g[2]'\n",
    "graph_data = driver.find_elements(By.CLASS_NAME, 'column')\n",
    "\n",
    "date_data = driver.find_elements(By.CLASS_NAME, 'card')\n",
    "\n",
    "weekly_positives_array = []\n",
    "weekly_negatives_array = []\n",
    "weekly_inconclusive_array = []\n",
    "weekly_dates = []\n",
    "\n",
    "for t in graph_data[:7]:\n",
    "    data = t.get_attribute('aria-label')\n",
    "    splitted = data.split(\" \")\n",
    "    date = splitted[2]\n",
    "    date = date.replace(\".\", '')\n",
    "    weekly_dates.append(date)\n",
    "    start = data.find(\".\") + 2\n",
    "    end = data.find(\".\", start)\n",
    "    parsed = data[start:end]\n",
    "    parsed = parsed.replace(\"Positive \", '')\n",
    "    parsed = parsed.replace(\",\", '')\n",
    "    weekly_positives_array.append(parsed)\n",
    "    \n",
    "for t in graph_data[7:14]:\n",
    "    data = t.get_attribute('aria-label')\n",
    "    start = data.find(\".\") + 2\n",
    "    end = data.find(\".\", start)\n",
    "    parsed = data[start:end]\n",
    "    parsed = parsed.replace(\"Negative \", '')\n",
    "    parsed = parsed.replace(\",\", '')\n",
    "    weekly_negatives_array.append(parsed)\n",
    "    \n",
    "for t in graph_data[14:21]:\n",
    "    data = t.get_attribute('aria-label')\n",
    "    start = data.find(\".\") + 2\n",
    "    end = data.find(\".\", start)\n",
    "    parsed = data[start:end]\n",
    "    parsed = parsed.replace(\"Invalid \", '')\n",
    "    parsed = parsed.replace(\",\", '')\n",
    "    weekly_inconclusive_array.append(parsed)\n",
    "    \n",
    "weekly_positives_array = list(map(int, weekly_positives_array)) \n",
    "weekly_negatives_array = list(map(int, weekly_negatives_array)) \n",
    "weekly_invalid_array = list(map(int, weekly_inconclusive_array)) \n",
    "\n",
    "print(\"DATES X-DATA\")\n",
    "print(weekly_dates)\n",
    "print(\"POSITIVE Y-DATA\")\n",
    "print(weekly_positives_array)\n",
    "print(\"NEGATIVE Y-DATA\")\n",
    "print(weekly_negatives_array)\n",
    "print(\"INCONCLUSIVE Y-DATA\")\n",
    "print(weekly_invalid_array)\n",
    "\n",
    "\n",
    "print(weekly_dates)\n",
    "\n",
    "\n",
    "\n",
    "\n",
    "\n"
   ]
  },
  {
   "cell_type": "code",
   "execution_count": 14,
   "metadata": {},
   "outputs": [
    {
     "name": "stdout",
     "output_type": "stream",
     "text": [
      "8/21/20\n"
     ]
    }
   ],
   "source": []
  },
  {
   "cell_type": "code",
   "execution_count": 26,
   "metadata": {},
   "outputs": [
    {
     "name": "stdout",
     "output_type": "stream",
     "text": [
      "{'Cumulative': {'Invalid': '143', 'Negative': '11,585', 'Positive': '19', 'Processing Time': '25.4', 'Total': '11,747'}, 'Daily': {'Date': '8-21-20', 'Date_TS': 1597982400.0, 'Date_Verbose': 'August 21, 2020', 'Invalid': '10', 'Isolated': '16', 'Negative': '1,443', 'Non-Contagious': '1', 'Positive': '3', 'Processing Time': '23.1', 'Recovered': '2', 'Total': '1,456'}}\n"
     ]
    }
   ],
   "source": [
    "from firebase import firebase\n",
    "firebase_url = \"https://bu-covid-19-dashboard.firebaseio.com/\"\n",
    "firebase_app = firebase.FirebaseApplication(firebase_url, None)\n",
    "\n",
    "import time\n",
    "import datetime\n",
    "\n",
    "from selenium import webdriver\n",
    "from selenium.webdriver.common.by import By\n",
    "from selenium.webdriver.support.ui import WebDriverWait\n",
    "from selenium.webdriver.support import expected_conditions as EC\n",
    "from selenium.common.exceptions import TimeoutException\n",
    "\n",
    "def update_data():\n",
    "    \n",
    "    # Get a chrome webdriver (on Mac OSX 'brew cask install chromedriver')\n",
    "    driver = webdriver.Chrome(executable_path='chromedriver')\n",
    "    # Get the webpage for the direct PowerBI visualization from Boston University \n",
    "    driver.get('https://app.powerbi.com/view?r=eyJrIjoiMzI4OTBlMzgtODg5MC00OGEwLThlMDItNGJiNDdjMDU5ODhkIiwidCI6ImQ1N2QzMmNjLWMxMjEtNDg4Zi1iMDdiLWRmZTcwNTY4MGM3MSIsImMiOjN9')\n",
    "    driver.implicitly_wait(10)\n",
    "    \n",
    "    # Current date \n",
    "    current_date = driver.find_elements(By.CLASS_NAME, 'column')[6].get_attribute('aria-label').split(\" \")[2].replace(\".\", '')\n",
    "    date = current_date.replace('/', '-')\n",
    "    date_ts = time.mktime(datetime.datetime.strptime(date, \"%m-%d-%y\").timetuple())\n",
    "\n",
    "    # DAILY DATA\n",
    "    daily_tests_conducted_xpath = '//*[@id=\"pvExplorationHost\"]/div/div/exploration/div/explore-canvas-modern/div/div[2]/div/div[2]/div[2]/visual-container-repeat/visual-container-modern[8]/transform/div/div[3]/div/visual-modern/div/div/div/div[1]/div/div/div/div/div[1]/div[1]'\n",
    "    daily_tests_pos_xpath = '//*[@id=\"pvExplorationHost\"]/div/div/exploration/div/explore-canvas-modern/div/div[2]/div/div[2]/div[2]/visual-container-repeat/visual-container-modern[8]/transform/div/div[3]/div/visual-modern/div/div/div/div[1]/div/div/div/div/div[3]/div[1]'\n",
    "    daily_tests_neg_xpath = '//*[@id=\"pvExplorationHost\"]/div/div/exploration/div/explore-canvas-modern/div/div[2]/div/div[2]/div[2]/visual-container-repeat/visual-container-modern[8]/transform/div/div[3]/div/visual-modern/div/div/div/div[1]/div/div/div/div/div[2]/div[1]'\n",
    "    daily_tests_inv_xpath = '//*[@id=\"pvExplorationHost\"]/div/div/exploration/div/explore-canvas-modern/div/div[2]/div/div[2]/div[2]/visual-container-repeat/visual-container-modern[8]/transform/div/div[3]/div/visual-modern/div/div/div/div[1]/div/div/div/div/div[4]/div[1]'\n",
    "    avg_sample_process_time_xpath = '//*[@id=\"pvExplorationHost\"]/div/div/exploration/div/explore-canvas-modern/div/div[2]/div/div[2]/div[2]/visual-container-repeat/visual-container-modern[17]/transform/div/div[3]/div/visual-modern/div/div/div/div[1]/div/div/div/div/div/div[1]'\n",
    "\n",
    "    daily_tests_conducted = driver.find_element(By.XPATH, daily_tests_conducted_xpath).text\n",
    "    daily_tests_neg = driver.find_element(By.XPATH, daily_tests_neg_xpath).text\n",
    "    daily_tests_pos = driver.find_element(By.XPATH, daily_tests_pos_xpath).text\n",
    "    daily_tests_inv = driver.find_element(By.XPATH, daily_tests_inv_xpath).text\n",
    "    avg_sample_process_time = driver.find_element(By.XPATH, avg_sample_process_time_xpath).text\n",
    "\n",
    "    # CUMULATIVE DATA \n",
    "    cum_title_xpath = '//*[@id=\"pvExplorationHost\"]/div/div/exploration/div/explore-canvas-modern/div/div[2]/div/div[2]/div[2]/visual-container-repeat/visual-container-modern[14]/transform/div/div[3]/div/visual-modern/div/svg/g[1]/text/tspan'\n",
    "    cum_tests_conducted_xpath = '//*[@id=\"pvExplorationHost\"]/div/div/exploration/div/explore-canvas-modern/div/div[2]/div/div[2]/div[2]/visual-container-repeat/visual-container-modern[20]/transform/div/div[3]/div/visual-modern/div/div/div/div[1]/div/div/div/div/div[1]/div[1]'\n",
    "    cum_tests_neg_xpath = '//*[@id=\"pvExplorationHost\"]/div/div/exploration/div/explore-canvas-modern/div/div[2]/div/div[2]/div[2]/visual-container-repeat/visual-container-modern[20]/transform/div/div[3]/div/visual-modern/div/div/div/div[1]/div/div/div/div/div[2]/div[1]'\n",
    "    cum_tests_inv_xpath = '//*[@id=\"pvExplorationHost\"]/div/div/exploration/div/explore-canvas-modern/div/div[2]/div/div[2]/div[2]/visual-container-repeat/visual-container-modern[20]/transform/div/div[3]/div/visual-modern/div/div/div/div[1]/div/div/div/div/div[4]/div[1]'\n",
    "    cum_tests_pos_xpath = '//*[@id=\"pvExplorationHost\"]/div/div/exploration/div/explore-canvas-modern/div/div[2]/div/div[2]/div[2]/visual-container-repeat/visual-container-modern[20]/transform/div/div[3]/div/visual-modern/div/div/div/div[1]/div/div/div/div/div[3]/div[1]'\n",
    "    cum_avg_sample_process_time_xpath = '//*[@id=\"pvExplorationHost\"]/div/div/exploration/div/explore-canvas-modern/div/div[2]/div/div[2]/div[2]/visual-container-repeat/visual-container-modern[18]/transform/div/div[3]/div/visual-modern/div/div/div/div[1]/div/div/div/div/div/div[1]'\n",
    "\n",
    "    cum_tests_conducted = driver.find_element(By.XPATH, cum_tests_conducted_xpath).text\n",
    "    cum_tests_neg = driver.find_element(By.XPATH, cum_tests_neg_xpath).text\n",
    "    cum_tests_pos = driver.find_element(By.XPATH, cum_tests_pos_xpath).text\n",
    "    cum_tests_inv = driver.find_element(By.XPATH, cum_tests_inv_xpath).text\n",
    "    cum_avg_sample_process_time = driver.find_element(By.XPATH, cum_avg_sample_process_time_xpath).text\n",
    "\n",
    "    # infected student info\n",
    "    recovered_xpath = '//*[@id=\"pvExplorationHost\"]/div/div/exploration/div/explore-canvas-modern/div/div[2]/div/div[2]/div[2]/visual-container-repeat/visual-container-modern[24]/transform/div/div[3]/div/visual-modern/div/div/div/div[1]/div/div/div/div/div/div[1]'\n",
    "    noncontagious_xpath = '//*[@id=\"pvExplorationHost\"]/div/div/exploration/div/explore-canvas-modern/div/div[2]/div/div[2]/div[2]/visual-container-repeat/visual-container-modern[16]/transform/div/div[3]/div/visual-modern/div/div/div/div[1]/div/div/div/div/div/div[1]'\n",
    "    isolated_xpath = '//*[@id=\"pvExplorationHost\"]/div/div/exploration/div/explore-canvas-modern/div/div[2]/div/div[2]/div[2]/visual-container-repeat/visual-container-modern[9]/transform/div/div[3]/div/visual-modern/div/div/div/div[1]/div/div/div/div/div/div[1]'\n",
    "\n",
    "    recovered = driver.find_element(By.XPATH, recovered_xpath).text\n",
    "    noncontagious = driver.find_element(By.XPATH, noncontagious_xpath).text\n",
    "    isolated = driver.find_element(By.XPATH, isolated_xpath).text\n",
    "\n",
    "    # Nicely formatted date for daily view \n",
    "    date_data = driver.find_elements(By.CLASS_NAME, 'card')\n",
    "    verbose_date = date_data[9].get_attribute(\"aria-label\")\n",
    "    verbose_date = verbose_date.replace(\"Latest Result Date \", '')\n",
    "    verbose_date = verbose_date.replace(\".\", '')\n",
    "    \n",
    "    daily_tests_conducted = int(daily_tests_conducted.replace(\",\", ''))\n",
    "    daily_tests_neg = int(daily_tests_neg.replace(\",\", ''))\n",
    "    daily_tests_pos = int(daily_tests_pos.replace(\",\", ''))\n",
    "    daily_tests_inv = int(daily_tests_inv.replace(\",\", ''))\n",
    "    \n",
    "    isolated = int(isolated.replace(\",\", ''))\n",
    "    recovered = int(recovered.replace(\",\", ''))\n",
    "    noncontagious = int(noncontagious.replace(\",\", ''))\n",
    "    \n",
    "    cum_tests_conducted = int(cum_tests_conducted.replace(\",\", ''))\n",
    "    cum_tests_neg = int(cum_tests_neg.replace(\",\", ''))\n",
    "    cum_tests_pos = int(cum_tests_pos.replace(\",\", ''))\n",
    "    cum_tests_inv = int(cum_tests_inv.replace(\",\", ''))\n",
    "    \n",
    "    avg_sample_process_time = float(avg_sample_process_time)\n",
    "    cum_avg_sample_process_time = float(cum_avg_sample_process_time)\n",
    "\n",
    "    data =  { 'Daily': {\n",
    "                    'Date_Verbose': verbose_date,\n",
    "                    'Date_TS': date_ts,\n",
    "                    'Date': date,\n",
    "                    'Total': daily_tests_conducted,\n",
    "                    'Negative': daily_tests_neg,\n",
    "                    'Positive': daily_tests_pos,\n",
    "                    'Invalid': daily_tests_inv,\n",
    "                    'Isolated': isolated,\n",
    "                    'Recovered': recovered,\n",
    "                    'Non-Contagious': noncontagious,\n",
    "                    'Processing Time': avg_sample_process_time\n",
    "                    },\n",
    "                'Cumulative': {\n",
    "                    'Total': cum_tests_conducted,\n",
    "                    'Negative': cum_tests_neg,\n",
    "                    'Positive': cum_tests_pos,\n",
    "                    'Invalid': cum_tests_inv,\n",
    "                    'Processing Time': cum_avg_sample_process_time\n",
    "                    }\n",
    "                }\n",
    "    \n",
    "\n",
    "    result = firebase_app.put('/reporting', date, data)\n",
    "    print(result)\n",
    "    \n",
    "update_data()\n"
   ]
  },
  {
   "cell_type": "code",
   "execution_count": 12,
   "metadata": {},
   "outputs": [
    {
     "name": "stdout",
     "output_type": "stream",
     "text": [
      "{'Daily': {'Date': '8/15/20', 'Date_TS': 1597464000.0, 'Invalid': 17, 'Negative': 1000, 'Positive': 2}}\n",
      "{'Daily': {'Date': '8/16/20', 'Date_TS': 1597550400.0, 'Invalid': 0, 'Negative': 285, 'Positive': 1}}\n",
      "{'Daily': {'Date': '8/17/20', 'Date_TS': 1597636800.0, 'Invalid': 13, 'Negative': 1069, 'Positive': 4}}\n",
      "{'Daily': {'Date': '8/18/20', 'Date_TS': 1597723200.0, 'Invalid': 11, 'Negative': 950, 'Positive': 4}}\n",
      "{'Daily': {'Date': '8/19/20', 'Date_TS': 1597809600.0, 'Invalid': 7, 'Negative': 1443, 'Positive': 0}}\n",
      "{'Daily': {'Date': '8/20/20', 'Date_TS': 1597896000.0, 'Invalid': 4, 'Negative': 1410, 'Positive': 0}}\n",
      "{'Daily': {'Date': '8/21/20', 'Date_TS': 1597982400.0, 'Invalid': 10, 'Negative': 1443, 'Positive': 3}}\n"
     ]
    }
   ],
   "source": [
    "\n",
    "for d, n, p, i in zip(weekly_dates, weekly_negatives_array, weekly_positives_array, weekly_inconclusive_array):\n",
    "    date_hyphen = d.replace('/', '-')\n",
    "    date_ts = time.mktime(datetime.datetime.strptime(date_hyphen, \"%m-%d-%y\").timetuple())\n",
    "    data = {\n",
    "        'Daily': {\n",
    "            'Date': d,\n",
    "            'Date_TS': date_ts,\n",
    "            'Negative': n,\n",
    "            'Positive': p,\n",
    "            'Invalid': i\n",
    "        }\n",
    "    }\n",
    "    result = firebase_app.put('/reporting', date_hyphen, data)\n",
    "    print(result)"
   ]
  },
  {
   "cell_type": "code",
   "execution_count": 187,
   "metadata": {},
   "outputs": [
    {
     "data": {
      "application/javascript": [
       "require.config({\n",
       "  paths: {\n",
       "      d3: 'https://d3js.org/d3.v3.js'\n",
       "  }\n",
       "});\n"
      ],
      "text/plain": [
       "<IPython.core.display.Javascript object>"
      ]
     },
     "metadata": {},
     "output_type": "display_data"
    }
   ],
   "source": [
    "%%javascript\n",
    "require.config({\n",
    "  paths: {\n",
    "      d3: 'https://d3js.org/d3.v3.js'\n",
    "  }\n",
    "});"
   ]
  },
  {
   "cell_type": "code",
   "execution_count": 193,
   "metadata": {},
   "outputs": [
    {
     "data": {
      "text/html": [
       "<link media=\"all\" href=\"files/nv.d3.css\" type=\"text/css\"\n",
       "                        rel=\"stylesheet\"/>"
      ],
      "text/plain": [
       "<IPython.core.display.HTML object>"
      ]
     },
     "metadata": {},
     "output_type": "display_data"
    },
    {
     "data": {
      "application/javascript": [
       "$.getScript(\"files/nv.d3.js\")"
      ],
      "text/plain": [
       "<IPython.core.display.Javascript object>"
      ]
     },
     "metadata": {},
     "output_type": "display_data"
    },
    {
     "data": {
      "application/javascript": [
       "$.getScript(\"files/d3.v3.js\", function() {\n",
       "                              $.getScript(\"files/nv.d3.js\", function() {})});"
      ],
      "text/plain": [
       "<IPython.core.display.Javascript object>"
      ]
     },
     "metadata": {},
     "output_type": "display_data"
    },
    {
     "data": {
      "text/html": [
       "<script src=\"files/d3.v3.js\"></script>"
      ],
      "text/plain": [
       "<IPython.core.display.HTML object>"
      ]
     },
     "metadata": {},
     "output_type": "display_data"
    },
    {
     "data": {
      "text/html": [
       "<script src=\"files/nv.d3.js\"></script>"
      ],
      "text/plain": [
       "<IPython.core.display.HTML object>"
      ]
     },
     "metadata": {},
     "output_type": "display_data"
    },
    {
     "name": "stdout",
     "output_type": "stream",
     "text": [
      "<!DOCTYPE html>\n",
      "<html lang=\"en\">\n",
      "    <head>\n",
      "        <meta charset=\"utf-8\" />\n",
      "        <link href=\"https://cdnjs.cloudflare.com/ajax/libs/nvd3/1.7.0/nv.d3.min.css\" rel=\"stylesheet\" />\n",
      "        <script src=\"https://cdnjs.cloudflare.com/ajax/libs/d3/3.5.5/d3.min.js\"></script>\n",
      "        <script src=\"https://cdnjs.cloudflare.com/ajax/libs/nvd3/1.7.0/nv.d3.min.js\"></script>\n",
      "    </head>\n",
      "    <body>\n",
      "        \n",
      "    <div id=\"chart1\"><svg style=\"width:1000px;height:600px;\"></svg></div>\n",
      "\n",
      "\n",
      "    <script>\n",
      "\n",
      "\n",
      "\n",
      "        data_chart1=[{\"values\": [{\"x\": 1597377600000.0, \"y\": 281}, {\"x\": 1597464000000.0, \"y\": 1000}, {\"x\": 1597550400000.0, \"y\": 285}, {\"x\": 1597636800000.0, \"y\": 1069}, {\"x\": 1597723200000.0, \"y\": 950}, {\"x\": 1597809600000.0, \"y\": 1443}, {\"x\": 1597896000000.0, \"y\": 1410}], \"key\": \"Negative\", \"yAxis\": \"1\", \"color\": \"blue\"}, {\"values\": [{\"x\": 1597377600000.0, \"y\": 4}, {\"x\": 1597464000000.0, \"y\": 17}, {\"x\": 1597550400000.0, \"y\": 0}, {\"x\": 1597636800000.0, \"y\": 13}, {\"x\": 1597723200000.0, \"y\": 11}, {\"x\": 1597809600000.0, \"y\": 7}, {\"x\": 1597896000000.0, \"y\": 4}], \"key\": \"Inconclusive\", \"yAxis\": \"1\", \"color\": \"orange\"}, {\"values\": [{\"x\": 1597377600000.0, \"y\": 0}, {\"x\": 1597464000000.0, \"y\": 2}, {\"x\": 1597550400000.0, \"y\": 1}, {\"x\": 1597636800000.0, \"y\": 4}, {\"x\": 1597723200000.0, \"y\": 4}, {\"x\": 1597809600000.0, \"y\": 0}, {\"x\": 1597896000000.0, \"y\": 0}], \"key\": \"Positive\", \"yAxis\": \"1\", \"color\": \"red\"}];\n",
      "\n",
      "    nv.addGraph(function() {\n",
      "        var chart = nv.models.multiBarChart();\n",
      "\n",
      "        chart.margin({top: 30, right: 60, bottom: 20, left: 60});\n",
      "\n",
      "        var datum = data_chart1;\n",
      "\n",
      "\n",
      "\n",
      "\n",
      "\n",
      "            chart.xAxis\n",
      "                .tickFormat(function(d) { return d3.time.format('%d %b %Y')(new Date(parseInt(d))) }\n",
      ");\n",
      "            chart.yAxis\n",
      "                .tickFormat(d3.format(',.2f'));\n",
      "\n",
      "                chart.tooltipContent(function(key, y, e, graph) {\n",
      "                    var x = d3.time.format(\"%d %b %Y\")(new Date(parseInt(graph.point.x)));\n",
      "                    var y = String(graph.point.y);\n",
      "                    var y = String(graph.point.y);\n",
      "\n",
      "                    tooltip_str = '<center><b>'+key+'</b></center>' + y + ' on ' + x;\n",
      "                    return tooltip_str;\n",
      "                });\n",
      "\n",
      "      chart.showLegend(true);\n",
      "\n",
      "\n",
      "\n",
      "        \n",
      "\n",
      "\n",
      "        d3.select('#chart1 svg')\n",
      "            .datum(datum)\n",
      "            .transition().duration(500)\n",
      "            .attr('width', 1000)\n",
      "            .attr('height', 600)\n",
      "            .call(chart);\n",
      "\n",
      "        d3.selectAll('#chart1 text').yAxis.tickFormat(d3.format('.0f'));\n",
      "\n",
      "    });\n",
      "\n",
      "\n",
      "\n",
      "\n",
      "    </script>\n",
      "\n",
      "    </body>\n",
      "</html>\n"
     ]
    }
   ],
   "source": [
    "from IPython import display as d\n",
    "import nvd3\n",
    "import datetime\n",
    "import time\n",
    "nvd3.ipynb.initialize_javascript()\n",
    "\n",
    "xdata = [datetime.datetime.strptime(d, \"%m/%d/%y\") for d in weekly_dates]\n",
    "xdata = [time.mktime(d.timetuple()) * 1000 for d in xdata]\n",
    "\n",
    "chart =  nvd3.multiBarChart(name=\"chart1\", width=1000, height=600, x_axis_date=True, x_is_date=True, show_max=False) \n",
    "ydata_pos = weekly_positives_array\n",
    "ydata_neg = weekly_negatives_array\n",
    "ydata_inc = weekly_inconclusive_array\n",
    "\n",
    "chart.add_serie(name=\"Negative\", y=ydata_neg, x=xdata, color='blue')\n",
    "chart.add_serie(name=\"Inconclusive\", y=ydata_inc, x=xdata, color='orange')\n",
    "chart.add_serie(name=\"Positive\", y=ydata_pos, x=xdata, color='red')\n",
    "\n",
    "extras = \"d3.selectAll('#chart1 text').yAxis.tickFormat(d3.format('.0f'));\"\n",
    "             \n",
    "chart.add_chart_extras(extras)\n",
    "\n",
    "chart\n",
    "\n",
    "\n",
    "\n",
    "chart.buildhtml()\n",
    "print(chart)\n"
   ]
  },
  {
   "cell_type": "code",
   "execution_count": 159,
   "metadata": {},
   "outputs": [],
   "source": [
    "# Pretty format test rates\n",
    "cum_pos_test_rate = round(float(cum_tests_pos.replace(',', ''))/float(cum_tests_conducted.replace(',', '')) * 100, 2)\n",
    "cum_neg_test_rate = round(float(cum_tests_neg.replace(',', ''))/float(cum_tests_conducted.replace(',', '')) * 100, 2)\n",
    "cum_inc_test_rate = round(float(cum_tests_inc.replace(',', ''))/float(cum_tests_conducted.replace(',', '')) * 100, 2)\n",
    "\n",
    "daily_pos_test_rate = round(float(daily_tests_pos.replace(',', ''))/float(daily_tests_conducted.replace(',', '')) * 100, 2)\n",
    "daily_neg_test_rate = round(float(daily_tests_neg.replace(',', ''))/float(daily_tests_conducted.replace(',', '')) * 100, 2)\n",
    "daily_inc_test_rate = round(float(daily_tests_inc.replace(',', ''))/float(daily_tests_conducted.replace(',', '')) * 100, 2)"
   ]
  },
  {
   "cell_type": "code",
   "execution_count": 180,
   "metadata": {},
   "outputs": [
    {
     "name": "stdout",
     "output_type": "stream",
     "text": [
      "\n",
      "\n",
      "August 18, 2020\n",
      "----------\n",
      "Total Tests:\t\t 965\n",
      "Negative Tests:\t\t 950 \t(98.45%)\n",
      "Positive Tests:\t\t 4 \t(0.41%)\n",
      "Inconclusive Tests:\t 11 \t(1.14%)\n",
      "\n",
      "Average Processing Time: 18.5 hours\n",
      "\n",
      "\n",
      "Cumulative since July 27, 2020\n",
      "----------\n",
      "Total Tests:\t\t 7,427\n",
      "Negative Tests:\t\t 7,289 \t(98.14%)\n",
      "Positive Tests:\t\t 16 \t(0.22%)\n",
      "Inconclusive Tests:\t 122 \t(1.64%)\n",
      "\n",
      "Average Processing Time: 28.3 hours\n"
     ]
    }
   ],
   "source": [
    "print(\"\\n\")\n",
    "# hardcoded needs to change\n",
    "print(recent_date)\n",
    "print(\"----------\")\n",
    "print(\"Total Tests:\\t\\t\", daily_tests_conducted)\n",
    "print(\"Negative Tests:\\t\\t\", daily_tests_neg, \"\\t(\" + str(daily_neg_test_rate)+\"%\" + \")\")\n",
    "print(\"Positive Tests:\\t\\t\", daily_tests_pos, \"\\t(\" + str(daily_pos_test_rate)+\"%\" + \")\")\n",
    "print(\"Inconclusive Tests:\\t\", daily_tests_inc, \"\\t(\" + str(daily_inc_test_rate)+\"%\" + \")\")\n",
    "print(\"\\nAverage Processing Time:\", avg_sample_process_time, \"hours\")\n",
    "\n",
    "print(\"\\n\")\n",
    "# hardcoded needs to change\n",
    "print(\"Cumulative since July 27, 2020\")\n",
    "print(\"----------\")\n",
    "print(\"Total Tests:\\t\\t\", cum_tests_conducted)\n",
    "print(\"Negative Tests:\\t\\t\", cum_tests_neg, \"\\t(\" + str(cum_neg_test_rate)+\"%\" + \")\")\n",
    "print(\"Positive Tests:\\t\\t\", cum_tests_pos, \"\\t(\" + str(cum_pos_test_rate)+\"%\" + \")\")\n",
    "print(\"Inconclusive Tests:\\t\", cum_tests_inc, \"\\t(\" + str(cum_inc_test_rate)+\"%\" + \")\")\n",
    "print(\"\\nAverage Processing Time:\", cum_avg_sample_process_time, \"hours\")\n"
   ]
  },
  {
   "cell_type": "code",
   "execution_count": null,
   "metadata": {},
   "outputs": [],
   "source": []
  },
  {
   "cell_type": "code",
   "execution_count": null,
   "metadata": {},
   "outputs": [],
   "source": []
  }
 ],
 "metadata": {
  "kernelspec": {
   "display_name": "Python 3",
   "language": "python",
   "name": "python3"
  },
  "language_info": {
   "codemirror_mode": {
    "name": "ipython",
    "version": 3
   },
   "file_extension": ".py",
   "mimetype": "text/x-python",
   "name": "python",
   "nbconvert_exporter": "python",
   "pygments_lexer": "ipython3",
   "version": "3.7.7"
  }
 },
 "nbformat": 4,
 "nbformat_minor": 4
}
