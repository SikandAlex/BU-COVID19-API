{
 "cells": [
  {
   "cell_type": "code",
   "execution_count": 92,
   "metadata": {},
   "outputs": [],
   "source": [
    "from selenium import webdriver\n",
    "from selenium.webdriver.common.by import By\n",
    "from selenium.webdriver.support.ui import WebDriverWait\n",
    "from selenium.webdriver.support import expected_conditions as EC\n",
    "from selenium.common.exceptions import TimeoutException"
   ]
  },
  {
   "cell_type": "code",
   "execution_count": 93,
   "metadata": {},
   "outputs": [],
   "source": [
    "# Get a chrome webdriver (on Mac OSX 'brew cask install chromedriver')\n",
    "driver = webdriver.Chrome(executable_path='chromedriver')\n",
    "# Get the webpage for the direct PowerBI visualization from Boston University \n",
    "driver.get('https://app.powerbi.com/view?r=eyJrIjoiMzI4OTBlMzgtODg5MC00OGEwLThlMDItNGJiNDdjMDU5ODhkIiwidCI6ImQ1N2QzMmNjLWMxMjEtNDg4Zi1iMDdiLWRmZTcwNTY4MGM3MSIsImMiOjN9')\n",
    "driver.implicitly_wait(10)\n",
    "\n",
    "\n",
    "# CUMULATIVE DATA \n",
    "cum_title_xpath = '//*[@id=\"pvExplorationHost\"]/div/div/exploration/div/explore-canvas-modern/div/div[2]/div/div[2]/div[2]/visual-container-repeat/visual-container-modern[14]/transform/div/div[3]/div/visual-modern/div/svg/g[1]/text/tspan'\n",
    "cum_tests_conducted_xpath = '//*[@id=\"pvExplorationHost\"]/div/div/exploration/div/explore-canvas-modern/div/div[2]/div/div[2]/div[2]/visual-container-repeat/visual-container-modern[20]/transform/div/div[3]/div/visual-modern/div/div/div/div[1]/div/div/div/div/div[1]/div[1]'\n",
    "cum_tests_neg_xpath = '//*[@id=\"pvExplorationHost\"]/div/div/exploration/div/explore-canvas-modern/div/div[2]/div/div[2]/div[2]/visual-container-repeat/visual-container-modern[20]/transform/div/div[3]/div/visual-modern/div/div/div/div[1]/div/div/div/div/div[2]/div[1]'\n",
    "cum_tests_inc_xpath = '//*[@id=\"pvExplorationHost\"]/div/div/exploration/div/explore-canvas-modern/div/div[2]/div/div[2]/div[2]/visual-container-repeat/visual-container-modern[20]/transform/div/div[3]/div/visual-modern/div/div/div/div[1]/div/div/div/div/div[4]/div[1]'\n",
    "cum_tests_pos_xpath = '//*[@id=\"pvExplorationHost\"]/div/div/exploration/div/explore-canvas-modern/div/div[2]/div/div[2]/div[2]/visual-container-repeat/visual-container-modern[20]/transform/div/div[3]/div/visual-modern/div/div/div/div[1]/div/div/div/div/div[3]/div[1]'\n",
    "cum_avg_sample_process_time_xpath = '//*[@id=\"pvExplorationHost\"]/div/div/exploration/div/explore-canvas-modern/div/div[2]/div/div[2]/div[2]/visual-container-repeat/visual-container-modern[18]/transform/div/div[3]/div/visual-modern/div/div/div/div[1]/div/div/div/div/div/div[1]'\n",
    "\n",
    "cum_tests_conducted = driver.find_element(By.XPATH, cum_tests_conducted_xpath).text\n",
    "cum_tests_neg = driver.find_element(By.XPATH, cum_tests_neg_xpath).text\n",
    "cum_tests_pos = driver.find_element(By.XPATH, cum_tests_pos_xpath).text\n",
    "cum_tests_inc = driver.find_element(By.XPATH, cum_tests_inc_xpath).text\n",
    "cum_avg_sample_process_time = driver.find_element(By.XPATH, cum_avg_sample_process_time_xpath).text\n",
    "\n",
    "\n",
    "# DAILY DATA XPATHS\n",
    "daily_tests_conducted_xpath = '//*[@id=\"pvExplorationHost\"]/div/div/exploration/div/explore-canvas-modern/div/div[2]/div/div[2]/div[2]/visual-container-repeat/visual-container-modern[8]/transform/div/div[3]/div/visual-modern/div/div/div/div[1]/div/div/div/div/div[1]/div[1]'\n",
    "daily_tests_pos_xpath = '//*[@id=\"pvExplorationHost\"]/div/div/exploration/div/explore-canvas-modern/div/div[2]/div/div[2]/div[2]/visual-container-repeat/visual-container-modern[8]/transform/div/div[3]/div/visual-modern/div/div/div/div[1]/div/div/div/div/div[3]/div[1]'\n",
    "daily_tests_neg_xpath = '//*[@id=\"pvExplorationHost\"]/div/div/exploration/div/explore-canvas-modern/div/div[2]/div/div[2]/div[2]/visual-container-repeat/visual-container-modern[8]/transform/div/div[3]/div/visual-modern/div/div/div/div[1]/div/div/div/div/div[2]/div[1]'\n",
    "daily_tests_inc_xpath = '//*[@id=\"pvExplorationHost\"]/div/div/exploration/div/explore-canvas-modern/div/div[2]/div/div[2]/div[2]/visual-container-repeat/visual-container-modern[8]/transform/div/div[3]/div/visual-modern/div/div/div/div[1]/div/div/div/div/div[4]/div[1]'\n",
    "avg_sample_process_time_xpath = '//*[@id=\"pvExplorationHost\"]/div/div/exploration/div/explore-canvas-modern/div/div[2]/div/div[2]/div[2]/visual-container-repeat/visual-container-modern[17]/transform/div/div[3]/div/visual-modern/div/div/div/div[1]/div/div/div/div/div/div[1]'\n",
    "\n",
    "daily_tests_conducted = driver.find_element(By.XPATH, daily_tests_conducted_xpath).text\n",
    "daily_tests_neg = driver.find_element(By.XPATH, daily_tests_neg_xpath).text\n",
    "daily_tests_pos = driver.find_element(By.XPATH, daily_tests_pos_xpath).text\n",
    "daily_tests_inc = driver.find_element(By.XPATH, daily_tests_inc_xpath).text\n",
    "avg_sample_process_time = driver.find_element(By.XPATH, avg_sample_process_time_xpath).text\n"
   ]
  },
  {
   "cell_type": "code",
   "execution_count": 96,
   "metadata": {},
   "outputs": [],
   "source": [
    "# Pretty format test rates\n",
    "cum_pos_test_rate = round(float(cum_tests_pos.replace(',', ''))/float(cum_tests_conducted.replace(',', '')) * 100, 2)\n",
    "cum_neg_test_rate = round(float(cum_tests_neg.replace(',', ''))/float(cum_tests_conducted.replace(',', '')) * 100, 2)\n",
    "cum_inc_test_rate = round(float(cum_tests_inc.replace(',', ''))/float(cum_tests_conducted.replace(',', '')) * 100, 2)\n",
    "\n",
    "daily_pos_test_rate = round(float(daily_tests_pos.replace(',', ''))/float(daily_tests_conducted.replace(',', '')) * 100, 2)\n",
    "daily_neg_test_rate = round(float(daily_tests_neg.replace(',', ''))/float(daily_tests_conducted.replace(',', '')) * 100, 2)\n",
    "daily_inc_test_rate = round(float(daily_tests_inc.replace(',', ''))/float(daily_tests_conducted.replace(',', '')) * 100, 2)"
   ]
  },
  {
   "cell_type": "code",
   "execution_count": 97,
   "metadata": {},
   "outputs": [
    {
     "name": "stdout",
     "output_type": "stream",
     "text": [
      "\n",
      "\n",
      "August 17, 2020\n",
      "----------\n",
      "Total Tests:\t\t 1,086\n",
      "Negative Tests:\t\t 1,069 \t(98.43%)\n",
      "Positive Tests:\t\t 4 \t(0.37%)\n",
      "Inconclusive Tests:\t 13 \t(1.2%)\n",
      "\n",
      "Average Processing Time: 18.3 hours\n",
      "\n",
      "\n",
      "Cumulative since July 27, 2020\n",
      "----------\n",
      "Total Tests:\t\t 6,462\n",
      "Negative Tests:\t\t 6,339 \t(98.1%)\n",
      "Positive Tests:\t\t 12 \t(0.19%)\n",
      "Inconclusive Tests:\t 111 \t(1.72%)\n",
      "\n",
      "Average Processing Time: 29.8 hours\n"
     ]
    }
   ],
   "source": [
    "print(\"\\n\")\n",
    "# hardcoded needs to change\n",
    "print(\"August 17, 2020\")\n",
    "print(\"----------\")\n",
    "print(\"Total Tests:\\t\\t\", daily_tests_conducted)\n",
    "print(\"Negative Tests:\\t\\t\", daily_tests_neg, \"\\t(\" + str(daily_neg_test_rate)+\"%\" + \")\")\n",
    "print(\"Positive Tests:\\t\\t\", daily_tests_pos, \"\\t(\" + str(daily_pos_test_rate)+\"%\" + \")\")\n",
    "print(\"Inconclusive Tests:\\t\", daily_tests_inc, \"\\t(\" + str(daily_inc_test_rate)+\"%\" + \")\")\n",
    "print(\"\\nAverage Processing Time:\", avg_sample_process_time, \"hours\")\n",
    "\n",
    "print(\"\\n\")\n",
    "# hardcoded needs to change\n",
    "print(\"Cumulative since July 27, 2020\")\n",
    "print(\"----------\")\n",
    "print(\"Total Tests:\\t\\t\", cum_tests_conducted)\n",
    "print(\"Negative Tests:\\t\\t\", cum_tests_neg, \"\\t(\" + str(cum_neg_test_rate)+\"%\" + \")\")\n",
    "print(\"Positive Tests:\\t\\t\", cum_tests_pos, \"\\t(\" + str(cum_pos_test_rate)+\"%\" + \")\")\n",
    "print(\"Inconclusive Tests:\\t\", cum_tests_inc, \"\\t(\" + str(cum_inc_test_rate)+\"%\" + \")\")\n",
    "print(\"\\nAverage Processing Time:\", cum_avg_sample_process_time, \"hours\")\n"
   ]
  },
  {
   "cell_type": "code",
   "execution_count": null,
   "metadata": {},
   "outputs": [],
   "source": []
  },
  {
   "cell_type": "code",
   "execution_count": null,
   "metadata": {},
   "outputs": [],
   "source": []
  }
 ],
 "metadata": {
  "kernelspec": {
   "display_name": "Python 3",
   "language": "python",
   "name": "python3"
  },
  "language_info": {
   "codemirror_mode": {
    "name": "ipython",
    "version": 3
   },
   "file_extension": ".py",
   "mimetype": "text/x-python",
   "name": "python",
   "nbconvert_exporter": "python",
   "pygments_lexer": "ipython3",
   "version": "3.7.7"
  }
 },
 "nbformat": 4,
 "nbformat_minor": 4
}
